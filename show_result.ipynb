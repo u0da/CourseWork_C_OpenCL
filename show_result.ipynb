{
 "cells": [
  {
   "cell_type": "code",
   "execution_count": 758,
   "id": "0135ca00",
   "metadata": {},
   "outputs": [
    {
     "data": {
      "image/png": "[encoded data removed]",
      "text/plain": [
       "<Figure size 432x288 with 1 Axes>"
      ]
     },
     "metadata": {
      "needs_background": "light"
     },
     "output_type": "display_data"
    },
    {
     "data": {
      "image/png": "[encoded data removed]",
      "text/plain": [
       "<Figure size 432x288 with 1 Axes>"
      ]
     },
     "metadata": {
      "needs_background": "light"
     },
     "output_type": "display_data"
    }
   ],
   "source": [
    "import numpy as np\n",
    "from PIL import Image, ImageOps\n",
    "import math\n",
    "import random\n",
    "import sys, getopt\n",
    "from scipy.fft import fft2, fftfreq, fftshift, ifft2\n",
    "from scipy import fftpack, ndimage\n",
    "from matplotlib import pyplot as plt\n",
    "import cmath\n",
    "from scipy.signal import convolve2d\n",
    "from matplotlib.pyplot import imread\n",
    "import os\n",
    "import time\n",
    "\n",
    "def M(x, y):\n",
    "    if(x**2 + y**2 < (math.pi/2)**2):\n",
    "        return 1\n",
    "    else:\n",
    "        return 0\n",
    "\n",
    "def p_s(x, y, delta_z):\n",
    "    return 0.375 * delta_z * math.pi * (x**2 + y**2)\n",
    "\n",
    "    \n",
    "def p(x, y):\n",
    "    return 0.5 * math.pi * (x**2 + y**2)\n",
    "\n",
    "def h(delta_z):  # создает матрицу для фильтра нужной нам размерности (h)\n",
    "# от сигма зависит степень размытия. чем больше сигма тем больше размытие\n",
    "    \n",
    "    matr = np.zeros(shape = (512,512), dtype = np.complex128) # матрица из 0 (по размеру изборжания подаваемого)\n",
    "                                          \n",
    "    #|F(M(x,y)∙exp{i∙p_s (x,y,∆z_nm )+i∙p(x,y)})|\n",
    "    \n",
    "    #p_s = 0.375* math.pi * (разность между слоями) * (x**2 + y**2) \n",
    "     \n",
    "    for i in range(matr.shape[0]):\n",
    "        for j in range(matr.shape[1]):\n",
    "            x = math.pi/511*(i-255)\n",
    "            y = math.pi/511*(j-255)\n",
    "            matr[i, j] = M(x,y) * cmath.exp(1j * p_s(x, y, delta_z) + 1j * p(x, y))\n",
    "            \n",
    "    return abs(fftshift(fft2(matr)))**2\n",
    "\n",
    "# Загружаем картинку\n",
    "im = Image.open(\"src_0000.png\",'r')\n",
    "# im = im.transpose(Image.FLIP_LEFT_RIGHT)\n",
    "# im = im.transpose(Image.FLIP_TOP_BOTTOM)\n",
    "# im = im.convert('1')\n",
    "data = np.array(im)                         #представляем как массив\n",
    "data_im_fl = data[:,:,0].astype(np.float)   # делаем чб\n",
    "\n",
    "im_f_n = np.zeros(shape = (1024,1024), dtype = float)\n",
    "im_f_n[0:512,0:512] = data_im_fl            #расширяем\n",
    "\n",
    "# np.savetxt(\"image512-1024.txt\", im_f_n, fmt='%f')\n",
    "\n",
    "plt.imshow(im_f_n[0:1024, 0:1024], cmap = \"gist_gray\")\n",
    "plt.show()\n",
    "\n",
    "h_f_n = np.zeros(shape = (1024,1024), dtype = float)\n",
    "# h_f_n = np.zeros(shape = (512,512), dtype = float)\n",
    "h_f_n[0:512, 0:512] = h(delta_z = math.pi * 2)\n",
    "# h_f_n = fft2(h_f_n)\n",
    "# np.savetxt(\"h_func_1024_complex_python.txt\", h_f_n, fmt='%f')\n",
    "# np.savetxt(\"h_func_512.txt\", h_f_n, fmt='%f')\n",
    "# print(h_f_n.max())\n",
    "# print(h_f_n.min())\n",
    "# print('\\n')\n",
    "# print(h_f_n[0:10,0:10])\n",
    "# plt.imshow(h_f_n[0:1024, 0:1024], cmap = \"gist_gray\")\n",
    "# plt.show()\n",
    "\n",
    "\n",
    "# print(h_f_n.max())\n",
    "# print(h_f_n.min())\n",
    "# plt.imshow(h_f_n[0:512, 0:512], cmap = \"gist_gray\")\n",
    "# plt.show()\n",
    "# np.savetxt(\"h_func.txt\", h_f_n, fmt='%f')\n",
    "\n",
    "final = abs( ifft2( fftshift(fft2(im_f_n)) * fftshift(fft2(h_f_n))) )\n",
    "# final = abs(ifft2(fftshift(fft2(im_f_n))))\n",
    "plt.imshow(final[0:1024, 0:1024], cmap = \"gist_gray\")\n",
    "plt.show()\n"
   ]
  },
  {
   "cell_type": "code",
   "execution_count": 763,
   "id": "96a07f7f",
   "metadata": {
    "scrolled": true
   },
   "outputs": [
    {
     "data": {
      "image/png": "[encoded data removed]",
      "text/plain": [
       "<Figure size 432x288 with 1 Axes>"
      ]
     },
     "metadata": {
      "needs_background": "light"
     },
     "output_type": "display_data"
    }
   ],
   "source": [
    "# a = np.loadtxt(\"h_func_512_from_c.txt\")\n",
    "# a = np.loadtxt(\"h_func_512_from_c_fft_abs.txt\")\n",
    "# a = np.loadtxt(\"h_func_1024_fr_python.txt\")\n",
    "# h_from_c = np.zeros(shape = (1024,1024), dtype = float)\n",
    "# h_from_c[0:512,0:512] = a\n",
    "# a = np.loadtxt(\"h_func_1024_from_c.txt\")\n",
    "# a = np.loadtxt(\"result.txt\")\n",
    "# a = np.loadtxt(\"h_matrix_rash.txt\")\n",
    "# a = abs(fftshift(a))**2\n",
    "# print(a.shape)\n",
    "# print(a.max())\n",
    "\n",
    "# print(a.min())\n",
    "# print('\\n')\n",
    "# print(a[0:10])\n",
    "# np.savetxt(\"h_func_1024_fr_python.txt\", h_from_c, fmt='%f')\n",
    "# plt.imshow(a[0:1024,0:1024], cmap = \"gist_gray\")\n",
    "# plt.show()\n",
    "\n",
    "a = np.loadtxt('result.txt')\n",
    "# a = np.loadtxt('h_rash_out.txt')\n",
    "# a = np.loadtxt('image512-1024.txt')\n",
    "# a = abs(ifft2(fft2(a)))\n",
    "\n",
    "# print(a[0:10])\n",
    "# a = abs(ifft2(a))\n",
    "plt.imshow(a[0:1024,0:1024], cmap = \"gist_gray\")\n",
    "plt.show()\n",
    "\n"
   ]
  },
  {
   "cell_type": "code",
   "execution_count": null,
   "id": "b189c5e7",
   "metadata": {},
   "outputs": [],
   "source": []
  }
 ],
 "metadata": {
  "kernelspec": {
   "display_name": "Python 3",
   "language": "python",
   "name": "python3"
  },
  "language_info": {
   "codemirror_mode": {
    "name": "ipython",
    "version": 3
   },
   "file_extension": ".py",
   "mimetype": "text/x-python",
   "name": "python",
   "nbconvert_exporter": "python",
   "pygments_lexer": "ipython3",
   "version": "3.8.2"
  }
 },
 "nbformat": 4,
 "nbformat_minor": 5
}
